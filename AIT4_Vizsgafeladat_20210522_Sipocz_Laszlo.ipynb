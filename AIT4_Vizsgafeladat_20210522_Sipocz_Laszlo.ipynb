{
  "nbformat": 4,
  "nbformat_minor": 0,
  "metadata": {
    "colab": {
      "name": "AIT4_Vizsgafeladat_20210522_Sipocz_Laszlo.ipynb",
      "provenance": [],
      "collapsed_sections": [],
      "toc_visible": true,
      "authorship_tag": "ABX9TyO/PnbU9/WqoKpUZjB8vUZj",
      "include_colab_link": true
    },
    "kernelspec": {
      "name": "python3",
      "display_name": "Python 3"
    },
    "language_info": {
      "name": "python"
    }
  },
  "cells": [
    {
      "cell_type": "markdown",
      "metadata": {
        "id": "view-in-github",
        "colab_type": "text"
      },
      "source": [
        "<a href=\"https://colab.research.google.com/github/sipocz/messer/blob/main/AIT4_Vizsgafeladat_20210522_Sipocz_Laszlo.ipynb\" target=\"_parent\"><img src=\"https://colab.research.google.com/assets/colab-badge.svg\" alt=\"Open In Colab\"/></a>"
      ]
    },
    {
      "cell_type": "markdown",
      "metadata": {
        "id": "1l2VsAj9wGEt"
      },
      "source": [
        "# **Feladat kiírás: Idősor elemzése**\n",
        "Az ipari gyakorlatot az időben változó paraméterek jellemzik. Ezen paraméterek figyelése, elemzése pénzben is kifejezhető eredményt produkálhat. Egy ilyen feladat megoldására vállalkoznék az első javaslatomban:\n",
        "\n",
        "Rendelkezésre áll egy ipari terület nitrogén fogyasztásával kapcsolatos adathalmaz. Az adatok egy Internetes felületről érhetők el. A megoldással kapcsolatos elvárások:\n",
        "1. Az internetes felületről adatok letöltése (webscaping) technikával.\n",
        "2. Az adatok feldolgozása, CSV-ben történő tárolása\n",
        "3. Az adatok elemzése ahol a következő kérdésekre keressük a válaszokat:\n",
        "    * Az adatok alapján jelezhetünk-e valamilyen kiugró értéket, \n",
        "valamilyen hibát, ami alapján emberi beavatkozási igény is felmerül.\n",
        "    * Az adatok alapján történik-e valamilyen tendenciózus jelenség:\n",
        "    * Emelkedő fogyasztás\n",
        "    * Nem szokványos nyomás emelkedés, csökkenés ami a korábbi tapasztalatokból nem látszik. \n",
        "    * Lengés megjelenése a rendszerben\n",
        "4. Felismerhető-e valamilyen összefüggés az adatokban, amivel az esetlegesen hiányzó adat  pótolható, becsülhető. (Soft Sensor)\n"
      ]
    },
    {
      "cell_type": "markdown",
      "metadata": {
        "id": "rSvHAvr5xUzv"
      },
      "source": [
        "# Az adatok bemutatása"
      ]
    },
    {
      "cell_type": "markdown",
      "metadata": {
        "id": "6caMyxxKzevW"
      },
      "source": [
        "[Adatforrás](http://telemetry.messer.hu:8080/cgi-bin/rview.exe?Name=Richter1&Password=Messer2&Server=10.24.17.2&Language=hu)\n",
        "\n",
        "[Egy nap adata: -04-04-](http://telemetry.messer.hu:8080/cgi-bin/rview.exe?Log=..%5C..%5Cppsrv%5CRichter1.txt&Html=Richter1log&MaxRows=15000&Year1=2021&Mon1=4&Day1=4&Hour1=0&Year2=2021&Mon2=4&Day2=4&Hour2=23)\n",
        "\n",
        "Az adatok elérésehéz vebscaping technikát használtam. A következő fejezet erről szól."
      ]
    },
    {
      "cell_type": "code",
      "metadata": {
        "id": "6He9z6vyv7jy"
      },
      "source": [
        "import requests\n",
        "import pandas as pd\n",
        "import time\n",
        "import datetime\n",
        "\n",
        "from bs4 import BeautifulSoup\n",
        "\n",
        "def i2str(i):\n",
        "    i2=str(i)\n",
        "    if len(i2)<2:\n",
        "        i2=\"0\"+i2\n",
        "    return(i2)\n",
        "\n",
        "confline=   {\n",
        "            \"path\":\"./\",\n",
        "            \"prefix\":\"Nitrogen\"\n",
        "            }\n",
        "\n",
        "if \"path\" in confline:\n",
        "    path=confline[\"path\"]\n",
        "if \"prefix\" in confline:\n",
        "    prefix=confline[\"prefix\"]\n",
        "\n",
        "#print(path+prefix)\n",
        "\n",
        "def getdata(t1,t2):\n",
        "    #print(t1)\n",
        "    #print(t2)\n",
        "    y1=i2str(t1.year)\n",
        "    m1=i2str(t1.month)\n",
        "    d1=i2str(t1.day)\n",
        "\n",
        "\n",
        "    y2=i2str(t2.year)\n",
        "    m2=i2str(t2.month)\n",
        "    d2=i2str(t2.day)\n",
        "\n",
        "    url1=\"http://telemetry.messer.hu:8080/cgi-bin/rview.exe?Log=..%5C..%5C..%5Cppsrv%5CRichter1.txt&Html=Richter1log&MaxRows=\"\n",
        "    url2=\"10000&Year1=\"+y1+\"&Mon1=\"+m1+\"&Day1=\"+d1+\"&Hour1=0&Year2=\"+y2+\"&Mon2=\"+m2+\"&Day2=\"+d2+\"&Hour2=0\"\n",
        "\n",
        "    url=url1+url2\n",
        "\n",
        "    fname=path+prefix+y1+m1+d1+\".csv\"\n",
        "    result=requests.get(url)\n",
        "    soup = BeautifulSoup(result.content, 'html.parser')\n",
        "    allrow=soup.find_all(\"tr\")[:]\n",
        "    fo  = open(fname, \"w\",encoding='utf-8')\n",
        "    for  row in allrow:\n",
        "        soup2=BeautifulSoup(result.content, 'html.parser')\n",
        "        allcell=row.find_all(\"td\")[:]\n",
        "        sumcell=\"\"\n",
        "        #print(\"--------------\")\n",
        "        #print(allcell)\n",
        "        for cell in allcell:\n",
        "            celltxt=cell.text\n",
        "            sumcell=sumcell+celltxt+\";\"\n",
        "\n",
        "        outstr=sumcell.replace(\".\",\",\").replace(\";\",\" \",1).replace(\",\",\".\",2).replace(\"   \",\"\").replace(\"  \",\"\")\n",
        "        #print(outstr)\n",
        "\n",
        "        fo.write(outstr+\"\\n\")\n",
        "\n",
        "    # Close file\n",
        "    fo.close()\n",
        "    return(fname)\n",
        "\n",
        "dt=datetime.date.today()\n",
        "t1=dt\n",
        "dt=datetime.timedelta(days=1) # itt kezdi a letöltést ennyi nappal azelőtt \n",
        "tk=t1-dt\n",
        "fname=\"\"\n",
        "\n",
        "for i in range(1):  # ennyi napnyi adatot tölt le!! t1 -től kezdődően  Nekünk most csak egy kell! \n",
        "    dt=datetime.timedelta(days=1) #egy nap legyen a különbség\n",
        "    t2=t1+dt\n",
        "    fname=getdata(t1,t2)\n",
        "    t1=t2\n",
        "\n"
      ],
      "execution_count": 74,
      "outputs": []
    },
    {
      "cell_type": "markdown",
      "metadata": {
        "id": "sghjOtuKA7E8"
      },
      "source": [
        "**5 perces mintavétellel érkeznek az adatok**"
      ]
    },
    {
      "cell_type": "code",
      "metadata": {
        "colab": {
          "base_uri": "https://localhost:8080/",
          "height": 569
        },
        "id": "swqoC1at7-T-",
        "outputId": "0465bc11-70ba-411c-b5f2-daa523f0132b"
      },
      "source": [
        "import pandas as pd\n",
        "df=pd.read_csv(fname, sep=\";\", decimal=\",\",)\n",
        "df.drop(columns=[\"Unnamed: 6\"],inplace = True)\n",
        "print(df.head(5))\n",
        "print(df.tail(5))\n",
        "df.describe()"
      ],
      "execution_count": 77,
      "outputs": [
        {
          "output_type": "stream",
          "text": [
            "             Dátum Idõ  ...  PSA minőség: [%]\n",
            "0  2021.04.04 00:02:34  ...            0.1985\n",
            "1  2021.04.04 00:07:35  ...            0.2257\n",
            "2  2021.04.04 00:12:35  ...            0.2499\n",
            "3  2021.04.04 00:17:35  ...            0.2733\n",
            "4  2021.04.04 00:22:35  ...            0.2944\n",
            "\n",
            "[5 rows x 6 columns]\n",
            "               Dátum Idõ  ...  PSA minőség: [%]\n",
            "283  2021.04.04 23:38:39  ...            0.5729\n",
            "284  2021.04.04 23:43:39  ...            0.1256\n",
            "285  2021.04.04 23:48:39  ...            0.1453\n",
            "286  2021.04.04 23:53:40  ...            0.1745\n",
            "287  2021.04.04 23:58:40  ...            0.1879\n",
            "\n",
            "[5 rows x 6 columns]\n"
          ],
          "name": "stdout"
        },
        {
          "output_type": "execute_result",
          "data": {
            "text/html": [
              "<div>\n",
              "<style scoped>\n",
              "    .dataframe tbody tr th:only-of-type {\n",
              "        vertical-align: middle;\n",
              "    }\n",
              "\n",
              "    .dataframe tbody tr th {\n",
              "        vertical-align: top;\n",
              "    }\n",
              "\n",
              "    .dataframe thead th {\n",
              "        text-align: right;\n",
              "    }\n",
              "</style>\n",
              "<table border=\"1\" class=\"dataframe\">\n",
              "  <thead>\n",
              "    <tr style=\"text-align: right;\">\n",
              "      <th></th>\n",
              "      <th>LIN tartály menny.: [m3]</th>\n",
              "      <th>LIN tartály nyomás: [barg]</th>\n",
              "      <th>PSA mennyiség: [m3]</th>\n",
              "      <th>PSA nyomás: [barg]</th>\n",
              "      <th>PSA minőség: [%]</th>\n",
              "    </tr>\n",
              "  </thead>\n",
              "  <tbody>\n",
              "    <tr>\n",
              "      <th>count</th>\n",
              "      <td>288.000000</td>\n",
              "      <td>288.000000</td>\n",
              "      <td>288.000000</td>\n",
              "      <td>288.000000</td>\n",
              "      <td>288.000000</td>\n",
              "    </tr>\n",
              "    <tr>\n",
              "      <th>mean</th>\n",
              "      <td>23405.534722</td>\n",
              "      <td>8.424340</td>\n",
              "      <td>143.651042</td>\n",
              "      <td>7.861111</td>\n",
              "      <td>0.354451</td>\n",
              "    </tr>\n",
              "    <tr>\n",
              "      <th>std</th>\n",
              "      <td>382.992306</td>\n",
              "      <td>0.031594</td>\n",
              "      <td>203.625121</td>\n",
              "      <td>0.366281</td>\n",
              "      <td>0.192111</td>\n",
              "    </tr>\n",
              "    <tr>\n",
              "      <th>min</th>\n",
              "      <td>22734.000000</td>\n",
              "      <td>8.350000</td>\n",
              "      <td>0.000000</td>\n",
              "      <td>7.400000</td>\n",
              "      <td>0.118100</td>\n",
              "    </tr>\n",
              "    <tr>\n",
              "      <th>25%</th>\n",
              "      <td>23047.500000</td>\n",
              "      <td>8.400000</td>\n",
              "      <td>0.000000</td>\n",
              "      <td>7.500000</td>\n",
              "      <td>0.180750</td>\n",
              "    </tr>\n",
              "    <tr>\n",
              "      <th>50%</th>\n",
              "      <td>23388.500000</td>\n",
              "      <td>8.430000</td>\n",
              "      <td>0.000000</td>\n",
              "      <td>7.800000</td>\n",
              "      <td>0.326350</td>\n",
              "    </tr>\n",
              "    <tr>\n",
              "      <th>75%</th>\n",
              "      <td>23759.000000</td>\n",
              "      <td>8.450000</td>\n",
              "      <td>289.175000</td>\n",
              "      <td>8.200000</td>\n",
              "      <td>0.479675</td>\n",
              "    </tr>\n",
              "    <tr>\n",
              "      <th>max</th>\n",
              "      <td>24069.000000</td>\n",
              "      <td>8.480000</td>\n",
              "      <td>624.100000</td>\n",
              "      <td>8.600000</td>\n",
              "      <td>1.026400</td>\n",
              "    </tr>\n",
              "  </tbody>\n",
              "</table>\n",
              "</div>"
            ],
            "text/plain": [
              "       LIN tartály menny.: [m3]  ...  PSA minőség: [%]\n",
              "count                288.000000  ...        288.000000\n",
              "mean               23405.534722  ...          0.354451\n",
              "std                  382.992306  ...          0.192111\n",
              "min                22734.000000  ...          0.118100\n",
              "25%                23047.500000  ...          0.180750\n",
              "50%                23388.500000  ...          0.326350\n",
              "75%                23759.000000  ...          0.479675\n",
              "max                24069.000000  ...          1.026400\n",
              "\n",
              "[8 rows x 5 columns]"
            ]
          },
          "metadata": {
            "tags": []
          },
          "execution_count": 77
        }
      ]
    },
    {
      "cell_type": "code",
      "metadata": {
        "colab": {
          "base_uri": "https://localhost:8080/",
          "height": 265
        },
        "id": "kkQhGu3kEY1V",
        "outputId": "ae9250ac-f689-4b25-fdd6-5882ee61fcc9"
      },
      "source": [
        "df[\"PSA mennyiség: [m3]\"].hist();"
      ],
      "execution_count": 80,
      "outputs": [
        {
          "output_type": "display_data",
          "data": {
            "image/png": "[encoded data removed]",
            "text/plain": [
              "<Figure size 432x288 with 1 Axes>"
            ]
          },
          "metadata": {
            "tags": [],
            "needs_background": "light"
          }
        }
      ]
    }
  ]
}