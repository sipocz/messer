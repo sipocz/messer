{
  "nbformat": 4,
  "nbformat_minor": 0,
  "metadata": {
    "colab": {
      "name": "AIT4_Vizsgafeladat_20210522_Sipocz_Laszlo.ipynb",
      "provenance": [],
      "collapsed_sections": [],
      "toc_visible": true,
      "authorship_tag": "ABX9TyNS7gLMEQgkLaPaPwk1uLz8",
      "include_colab_link": true
    },
    "kernelspec": {
      "name": "python3",
      "display_name": "Python 3"
    },
    "language_info": {
      "name": "python"
    }
  },
  "cells": [
    {
      "cell_type": "markdown",
      "metadata": {
        "id": "view-in-github",
        "colab_type": "text"
      },
      "source": [
        "<a href=\"https://colab.research.google.com/github/sipocz/messer/blob/main/AIT4_Vizsgafeladat_20210522_Sipocz_Laszlo.ipynb\" target=\"_parent\"><img src=\"https://colab.research.google.com/assets/colab-badge.svg\" alt=\"Open In Colab\"/></a>"
      ]
    },
    {
      "cell_type": "markdown",
      "metadata": {
        "id": "1l2VsAj9wGEt"
      },
      "source": [
        "# **Feladat kiírás: Idősor elemzése**\n",
        "Az ipari gyakorlatot az időben változó paraméterek jellemzik. Ezen paraméterek figyelése, elemzése pénzben is kifejezhető eredményt produkálhat. Egy ilyen feladat megoldására vállalkoznék az első javaslatomban:\n",
        "\n",
        "Rendelkezésre áll egy ipari terület nitrogén fogyasztásával kapcsolatos adathalmaz. Az adatok egy Internetes felületről érhetők el. A megoldással kapcsolatos elvárások:\n",
        "1. Az internetes felületről adatok letöltése (webscaping) technikával.\n",
        "2. Az adatok feldolgozása, CSV-ben történő tárolása\n",
        "3. Az adatok elemzése ahol a következő kérdésekre keressük a válaszokat:\n",
        "    * Az adatok alapján jelezhetünk-e valamilyen kiugró értéket, \n",
        "valamilyen hibát, ami alapján emberi beavatkozási igény is felmerül.\n",
        "    * Az adatok alapján történik-e valamilyen tendenciózus jelenség:\n",
        "    * Emelkedő fogyasztás\n",
        "    * Nem szokványos nyomás emelkedés, csökkenés ami a korábbi tapasztalatokból nem látszik. \n",
        "    * Lengés megjelenése a rendszerben\n",
        "4. Felismerhető-e valamilyen összefüggés az adatokban, amivel az esetlegesen hiányzó adat  pótolható, becsülhető. (Soft Sensor)\n"
      ]
    },
    {
      "cell_type": "markdown",
      "metadata": {
        "id": "rSvHAvr5xUzv"
      },
      "source": [
        "# Az adatok bemutatása"
      ]
    },
    {
      "cell_type": "markdown",
      "metadata": {
        "id": "6caMyxxKzevW"
      },
      "source": [
        "[Adatforrás](http://telemetry.messer.hu:8080/cgi-bin/rview.exe?Name=Richter1&Password=Messer2&Server=10.24.17.2&Language=hu)\n",
        "\n",
        "[Egy nap adata: -04-04-](http://telemetry.messer.hu:8080/cgi-bin/rview.exe?Log=..%5C..%5Cppsrv%5CRichter1.txt&Html=Richter1log&MaxRows=15000&Year1=2021&Mon1=4&Day1=4&Hour1=0&Year2=2021&Mon2=4&Day2=4&Hour2=23)\n",
        "\n",
        "Az adatok elérésehéz vebscaping technikát használtam. A következő fejezet erről szól."
      ]
    },
    {
      "cell_type": "code",
      "metadata": {
        "id": "6He9z6vyv7jy"
      },
      "source": [
        ""
      ],
      "execution_count": null,
      "outputs": []
    }
  ]
}